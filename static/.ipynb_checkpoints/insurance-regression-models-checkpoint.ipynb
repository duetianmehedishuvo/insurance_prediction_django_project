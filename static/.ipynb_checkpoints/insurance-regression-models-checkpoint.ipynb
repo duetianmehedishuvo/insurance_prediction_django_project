{
 "cells": [
  {
   "cell_type": "code",
   "execution_count": 3,
   "id": "492c144b",
   "metadata": {
    "_cell_guid": "b1076dfc-b9ad-4769-8c92-a6c4dae69d19",
    "_uuid": "8f2839f25d086af736a60e9eeb907d3b93b6e0e5",
    "execution": {
     "iopub.execute_input": "2024-10-19T10:57:11.907871Z",
     "iopub.status.busy": "2024-10-19T10:57:11.907279Z",
     "iopub.status.idle": "2024-10-19T10:57:12.875362Z",
     "shell.execute_reply": "2024-10-19T10:57:12.874055Z"
    },
    "papermill": {
     "duration": 0.979803,
     "end_time": "2024-10-19T10:57:12.878283",
     "exception": false,
     "start_time": "2024-10-19T10:57:11.898480",
     "status": "completed"
    },
    "tags": []
   },
   "outputs": [],
   "source": [
    "import numpy as np # linear algebra\n",
    "import pandas as pd # data processing, CSV file I/O (e.g. pd.read_csv)\n",
    "import os"
   ]
  },
  {
   "cell_type": "code",
   "execution_count": 4,
   "id": "075db36a",
   "metadata": {
    "execution": {
     "iopub.execute_input": "2024-10-19T10:57:12.893813Z",
     "iopub.status.busy": "2024-10-19T10:57:12.893203Z",
     "iopub.status.idle": "2024-10-19T10:57:12.933469Z",
     "shell.execute_reply": "2024-10-19T10:57:12.932173Z"
    },
    "papermill": {
     "duration": 0.051111,
     "end_time": "2024-10-19T10:57:12.936142",
     "exception": false,
     "start_time": "2024-10-19T10:57:12.885031",
     "status": "completed"
    },
    "tags": []
   },
   "outputs": [
    {
     "data": {
      "text/html": [
       "<div>\n",
       "<style scoped>\n",
       "    .dataframe tbody tr th:only-of-type {\n",
       "        vertical-align: middle;\n",
       "    }\n",
       "\n",
       "    .dataframe tbody tr th {\n",
       "        vertical-align: top;\n",
       "    }\n",
       "\n",
       "    .dataframe thead th {\n",
       "        text-align: right;\n",
       "    }\n",
       "</style>\n",
       "<table border=\"1\" class=\"dataframe\">\n",
       "  <thead>\n",
       "    <tr style=\"text-align: right;\">\n",
       "      <th></th>\n",
       "      <th>age</th>\n",
       "      <th>sex</th>\n",
       "      <th>bmi</th>\n",
       "      <th>children</th>\n",
       "      <th>smoker</th>\n",
       "      <th>region</th>\n",
       "      <th>expenses</th>\n",
       "    </tr>\n",
       "  </thead>\n",
       "  <tbody>\n",
       "    <tr>\n",
       "      <th>0</th>\n",
       "      <td>19</td>\n",
       "      <td>female</td>\n",
       "      <td>27.9</td>\n",
       "      <td>0</td>\n",
       "      <td>yes</td>\n",
       "      <td>southwest</td>\n",
       "      <td>16884.92</td>\n",
       "    </tr>\n",
       "    <tr>\n",
       "      <th>1</th>\n",
       "      <td>18</td>\n",
       "      <td>male</td>\n",
       "      <td>33.8</td>\n",
       "      <td>1</td>\n",
       "      <td>no</td>\n",
       "      <td>southeast</td>\n",
       "      <td>1725.55</td>\n",
       "    </tr>\n",
       "    <tr>\n",
       "      <th>2</th>\n",
       "      <td>28</td>\n",
       "      <td>male</td>\n",
       "      <td>33.0</td>\n",
       "      <td>3</td>\n",
       "      <td>no</td>\n",
       "      <td>southeast</td>\n",
       "      <td>4449.46</td>\n",
       "    </tr>\n",
       "    <tr>\n",
       "      <th>3</th>\n",
       "      <td>33</td>\n",
       "      <td>male</td>\n",
       "      <td>22.7</td>\n",
       "      <td>0</td>\n",
       "      <td>no</td>\n",
       "      <td>northwest</td>\n",
       "      <td>21984.47</td>\n",
       "    </tr>\n",
       "    <tr>\n",
       "      <th>4</th>\n",
       "      <td>32</td>\n",
       "      <td>male</td>\n",
       "      <td>28.9</td>\n",
       "      <td>0</td>\n",
       "      <td>no</td>\n",
       "      <td>northwest</td>\n",
       "      <td>3866.86</td>\n",
       "    </tr>\n",
       "  </tbody>\n",
       "</table>\n",
       "</div>"
      ],
      "text/plain": [
       "   age     sex   bmi  children smoker     region  expenses\n",
       "0   19  female  27.9         0    yes  southwest  16884.92\n",
       "1   18    male  33.8         1     no  southeast   1725.55\n",
       "2   28    male  33.0         3     no  southeast   4449.46\n",
       "3   33    male  22.7         0     no  northwest  21984.47\n",
       "4   32    male  28.9         0     no  northwest   3866.86"
      ]
     },
     "execution_count": 4,
     "metadata": {},
     "output_type": "execute_result"
    }
   ],
   "source": [
    "df = pd.read_csv(\"insurance.csv\")\n",
    "df.head()"
   ]
  },
  {
   "cell_type": "code",
   "execution_count": 5,
   "id": "ea841e6b",
   "metadata": {
    "execution": {
     "iopub.execute_input": "2024-10-19T10:57:12.951386Z",
     "iopub.status.busy": "2024-10-19T10:57:12.950939Z",
     "iopub.status.idle": "2024-10-19T10:57:12.958665Z",
     "shell.execute_reply": "2024-10-19T10:57:12.957465Z"
    },
    "papermill": {
     "duration": 0.018233,
     "end_time": "2024-10-19T10:57:12.961152",
     "exception": false,
     "start_time": "2024-10-19T10:57:12.942919",
     "status": "completed"
    },
    "tags": []
   },
   "outputs": [
    {
     "data": {
      "text/plain": [
       "(1338, 7)"
      ]
     },
     "execution_count": 5,
     "metadata": {},
     "output_type": "execute_result"
    }
   ],
   "source": [
    "df.shape"
   ]
  },
  {
   "cell_type": "code",
   "execution_count": 6,
   "id": "30ab9f26",
   "metadata": {
    "execution": {
     "iopub.execute_input": "2024-10-19T10:57:12.977264Z",
     "iopub.status.busy": "2024-10-19T10:57:12.976779Z",
     "iopub.status.idle": "2024-10-19T10:57:12.989811Z",
     "shell.execute_reply": "2024-10-19T10:57:12.988603Z"
    },
    "papermill": {
     "duration": 0.024512,
     "end_time": "2024-10-19T10:57:12.992830",
     "exception": false,
     "start_time": "2024-10-19T10:57:12.968318",
     "status": "completed"
    },
    "tags": []
   },
   "outputs": [
    {
     "data": {
      "text/plain": [
       "age         0\n",
       "sex         0\n",
       "bmi         0\n",
       "children    0\n",
       "smoker      0\n",
       "region      0\n",
       "expenses    0\n",
       "dtype: int64"
      ]
     },
     "execution_count": 6,
     "metadata": {},
     "output_type": "execute_result"
    }
   ],
   "source": [
    "df.isnull().sum()"
   ]
  },
  {
   "cell_type": "code",
   "execution_count": 7,
   "id": "759a8018",
   "metadata": {
    "execution": {
     "iopub.execute_input": "2024-10-19T10:57:13.010284Z",
     "iopub.status.busy": "2024-10-19T10:57:13.009755Z",
     "iopub.status.idle": "2024-10-19T10:57:13.042259Z",
     "shell.execute_reply": "2024-10-19T10:57:13.041091Z"
    },
    "papermill": {
     "duration": 0.044653,
     "end_time": "2024-10-19T10:57:13.044785",
     "exception": false,
     "start_time": "2024-10-19T10:57:13.000132",
     "status": "completed"
    },
    "tags": []
   },
   "outputs": [
    {
     "data": {
      "text/html": [
       "<div>\n",
       "<style scoped>\n",
       "    .dataframe tbody tr th:only-of-type {\n",
       "        vertical-align: middle;\n",
       "    }\n",
       "\n",
       "    .dataframe tbody tr th {\n",
       "        vertical-align: top;\n",
       "    }\n",
       "\n",
       "    .dataframe thead th {\n",
       "        text-align: right;\n",
       "    }\n",
       "</style>\n",
       "<table border=\"1\" class=\"dataframe\">\n",
       "  <thead>\n",
       "    <tr style=\"text-align: right;\">\n",
       "      <th></th>\n",
       "      <th>count</th>\n",
       "      <th>mean</th>\n",
       "      <th>std</th>\n",
       "      <th>min</th>\n",
       "      <th>25%</th>\n",
       "      <th>50%</th>\n",
       "      <th>75%</th>\n",
       "      <th>max</th>\n",
       "    </tr>\n",
       "  </thead>\n",
       "  <tbody>\n",
       "    <tr>\n",
       "      <th>age</th>\n",
       "      <td>1338.0</td>\n",
       "      <td>39.207025</td>\n",
       "      <td>14.049960</td>\n",
       "      <td>18.00</td>\n",
       "      <td>27.0000</td>\n",
       "      <td>39.00</td>\n",
       "      <td>51.000</td>\n",
       "      <td>64.00</td>\n",
       "    </tr>\n",
       "    <tr>\n",
       "      <th>bmi</th>\n",
       "      <td>1338.0</td>\n",
       "      <td>30.665471</td>\n",
       "      <td>6.098382</td>\n",
       "      <td>16.00</td>\n",
       "      <td>26.3000</td>\n",
       "      <td>30.40</td>\n",
       "      <td>34.700</td>\n",
       "      <td>53.10</td>\n",
       "    </tr>\n",
       "    <tr>\n",
       "      <th>children</th>\n",
       "      <td>1338.0</td>\n",
       "      <td>1.094918</td>\n",
       "      <td>1.205493</td>\n",
       "      <td>0.00</td>\n",
       "      <td>0.0000</td>\n",
       "      <td>1.00</td>\n",
       "      <td>2.000</td>\n",
       "      <td>5.00</td>\n",
       "    </tr>\n",
       "    <tr>\n",
       "      <th>expenses</th>\n",
       "      <td>1338.0</td>\n",
       "      <td>13270.422414</td>\n",
       "      <td>12110.011240</td>\n",
       "      <td>1121.87</td>\n",
       "      <td>4740.2875</td>\n",
       "      <td>9382.03</td>\n",
       "      <td>16639.915</td>\n",
       "      <td>63770.43</td>\n",
       "    </tr>\n",
       "  </tbody>\n",
       "</table>\n",
       "</div>"
      ],
      "text/plain": [
       "           count          mean           std      min        25%      50%  \\\n",
       "age       1338.0     39.207025     14.049960    18.00    27.0000    39.00   \n",
       "bmi       1338.0     30.665471      6.098382    16.00    26.3000    30.40   \n",
       "children  1338.0      1.094918      1.205493     0.00     0.0000     1.00   \n",
       "expenses  1338.0  13270.422414  12110.011240  1121.87  4740.2875  9382.03   \n",
       "\n",
       "                75%       max  \n",
       "age          51.000     64.00  \n",
       "bmi          34.700     53.10  \n",
       "children      2.000      5.00  \n",
       "expenses  16639.915  63770.43  "
      ]
     },
     "execution_count": 7,
     "metadata": {},
     "output_type": "execute_result"
    }
   ],
   "source": [
    "df.describe().T"
   ]
  },
  {
   "cell_type": "code",
   "execution_count": 8,
   "id": "7dc9c10d",
   "metadata": {
    "execution": {
     "iopub.execute_input": "2024-10-19T10:57:13.062249Z",
     "iopub.status.busy": "2024-10-19T10:57:13.061117Z",
     "iopub.status.idle": "2024-10-19T10:57:13.088342Z",
     "shell.execute_reply": "2024-10-19T10:57:13.087061Z"
    },
    "papermill": {
     "duration": 0.038638,
     "end_time": "2024-10-19T10:57:13.090908",
     "exception": false,
     "start_time": "2024-10-19T10:57:13.052270",
     "status": "completed"
    },
    "tags": []
   },
   "outputs": [
    {
     "name": "stdout",
     "output_type": "stream",
     "text": [
      "<class 'pandas.core.frame.DataFrame'>\n",
      "RangeIndex: 1338 entries, 0 to 1337\n",
      "Data columns (total 7 columns):\n",
      " #   Column    Non-Null Count  Dtype  \n",
      "---  ------    --------------  -----  \n",
      " 0   age       1338 non-null   int64  \n",
      " 1   sex       1338 non-null   object \n",
      " 2   bmi       1338 non-null   float64\n",
      " 3   children  1338 non-null   int64  \n",
      " 4   smoker    1338 non-null   object \n",
      " 5   region    1338 non-null   object \n",
      " 6   expenses  1338 non-null   float64\n",
      "dtypes: float64(2), int64(2), object(3)\n",
      "memory usage: 73.3+ KB\n"
     ]
    }
   ],
   "source": [
    "df.info()"
   ]
  },
  {
   "cell_type": "code",
   "execution_count": 9,
   "id": "f212aff7",
   "metadata": {},
   "outputs": [
    {
     "data": {
      "text/html": [
       "<div>\n",
       "<style scoped>\n",
       "    .dataframe tbody tr th:only-of-type {\n",
       "        vertical-align: middle;\n",
       "    }\n",
       "\n",
       "    .dataframe tbody tr th {\n",
       "        vertical-align: top;\n",
       "    }\n",
       "\n",
       "    .dataframe thead th {\n",
       "        text-align: right;\n",
       "    }\n",
       "</style>\n",
       "<table border=\"1\" class=\"dataframe\">\n",
       "  <thead>\n",
       "    <tr style=\"text-align: right;\">\n",
       "      <th></th>\n",
       "      <th>age</th>\n",
       "      <th>sex</th>\n",
       "      <th>bmi</th>\n",
       "      <th>children</th>\n",
       "      <th>smoker</th>\n",
       "      <th>region</th>\n",
       "      <th>expenses</th>\n",
       "    </tr>\n",
       "  </thead>\n",
       "  <tbody>\n",
       "    <tr>\n",
       "      <th>count</th>\n",
       "      <td>1338.000000</td>\n",
       "      <td>1338</td>\n",
       "      <td>1338.000000</td>\n",
       "      <td>1338.000000</td>\n",
       "      <td>1338</td>\n",
       "      <td>1338</td>\n",
       "      <td>1338.000000</td>\n",
       "    </tr>\n",
       "    <tr>\n",
       "      <th>unique</th>\n",
       "      <td>NaN</td>\n",
       "      <td>2</td>\n",
       "      <td>NaN</td>\n",
       "      <td>NaN</td>\n",
       "      <td>2</td>\n",
       "      <td>4</td>\n",
       "      <td>NaN</td>\n",
       "    </tr>\n",
       "    <tr>\n",
       "      <th>top</th>\n",
       "      <td>NaN</td>\n",
       "      <td>male</td>\n",
       "      <td>NaN</td>\n",
       "      <td>NaN</td>\n",
       "      <td>no</td>\n",
       "      <td>southeast</td>\n",
       "      <td>NaN</td>\n",
       "    </tr>\n",
       "    <tr>\n",
       "      <th>freq</th>\n",
       "      <td>NaN</td>\n",
       "      <td>676</td>\n",
       "      <td>NaN</td>\n",
       "      <td>NaN</td>\n",
       "      <td>1064</td>\n",
       "      <td>364</td>\n",
       "      <td>NaN</td>\n",
       "    </tr>\n",
       "    <tr>\n",
       "      <th>mean</th>\n",
       "      <td>39.207025</td>\n",
       "      <td>NaN</td>\n",
       "      <td>30.665471</td>\n",
       "      <td>1.094918</td>\n",
       "      <td>NaN</td>\n",
       "      <td>NaN</td>\n",
       "      <td>13270.422414</td>\n",
       "    </tr>\n",
       "    <tr>\n",
       "      <th>std</th>\n",
       "      <td>14.049960</td>\n",
       "      <td>NaN</td>\n",
       "      <td>6.098382</td>\n",
       "      <td>1.205493</td>\n",
       "      <td>NaN</td>\n",
       "      <td>NaN</td>\n",
       "      <td>12110.011240</td>\n",
       "    </tr>\n",
       "    <tr>\n",
       "      <th>min</th>\n",
       "      <td>18.000000</td>\n",
       "      <td>NaN</td>\n",
       "      <td>16.000000</td>\n",
       "      <td>0.000000</td>\n",
       "      <td>NaN</td>\n",
       "      <td>NaN</td>\n",
       "      <td>1121.870000</td>\n",
       "    </tr>\n",
       "    <tr>\n",
       "      <th>25%</th>\n",
       "      <td>27.000000</td>\n",
       "      <td>NaN</td>\n",
       "      <td>26.300000</td>\n",
       "      <td>0.000000</td>\n",
       "      <td>NaN</td>\n",
       "      <td>NaN</td>\n",
       "      <td>4740.287500</td>\n",
       "    </tr>\n",
       "    <tr>\n",
       "      <th>50%</th>\n",
       "      <td>39.000000</td>\n",
       "      <td>NaN</td>\n",
       "      <td>30.400000</td>\n",
       "      <td>1.000000</td>\n",
       "      <td>NaN</td>\n",
       "      <td>NaN</td>\n",
       "      <td>9382.030000</td>\n",
       "    </tr>\n",
       "    <tr>\n",
       "      <th>75%</th>\n",
       "      <td>51.000000</td>\n",
       "      <td>NaN</td>\n",
       "      <td>34.700000</td>\n",
       "      <td>2.000000</td>\n",
       "      <td>NaN</td>\n",
       "      <td>NaN</td>\n",
       "      <td>16639.915000</td>\n",
       "    </tr>\n",
       "    <tr>\n",
       "      <th>max</th>\n",
       "      <td>64.000000</td>\n",
       "      <td>NaN</td>\n",
       "      <td>53.100000</td>\n",
       "      <td>5.000000</td>\n",
       "      <td>NaN</td>\n",
       "      <td>NaN</td>\n",
       "      <td>63770.430000</td>\n",
       "    </tr>\n",
       "  </tbody>\n",
       "</table>\n",
       "</div>"
      ],
      "text/plain": [
       "                age   sex          bmi     children smoker     region  \\\n",
       "count   1338.000000  1338  1338.000000  1338.000000   1338       1338   \n",
       "unique          NaN     2          NaN          NaN      2          4   \n",
       "top             NaN  male          NaN          NaN     no  southeast   \n",
       "freq            NaN   676          NaN          NaN   1064        364   \n",
       "mean      39.207025   NaN    30.665471     1.094918    NaN        NaN   \n",
       "std       14.049960   NaN     6.098382     1.205493    NaN        NaN   \n",
       "min       18.000000   NaN    16.000000     0.000000    NaN        NaN   \n",
       "25%       27.000000   NaN    26.300000     0.000000    NaN        NaN   \n",
       "50%       39.000000   NaN    30.400000     1.000000    NaN        NaN   \n",
       "75%       51.000000   NaN    34.700000     2.000000    NaN        NaN   \n",
       "max       64.000000   NaN    53.100000     5.000000    NaN        NaN   \n",
       "\n",
       "            expenses  \n",
       "count    1338.000000  \n",
       "unique           NaN  \n",
       "top              NaN  \n",
       "freq             NaN  \n",
       "mean    13270.422414  \n",
       "std     12110.011240  \n",
       "min      1121.870000  \n",
       "25%      4740.287500  \n",
       "50%      9382.030000  \n",
       "75%     16639.915000  \n",
       "max     63770.430000  "
      ]
     },
     "execution_count": 9,
     "metadata": {},
     "output_type": "execute_result"
    }
   ],
   "source": [
    "df.describe(include='all')"
   ]
  },
  {
   "cell_type": "code",
   "execution_count": 10,
   "id": "1f27f42e",
   "metadata": {},
   "outputs": [
    {
     "data": {
      "text/plain": [
       "(1338, 7)"
      ]
     },
     "execution_count": 10,
     "metadata": {},
     "output_type": "execute_result"
    }
   ],
   "source": [
    "df.shape"
   ]
  },
  {
   "cell_type": "code",
   "execution_count": 12,
   "id": "58bd8d98",
   "metadata": {},
   "outputs": [
    {
     "ename": "AttributeError",
     "evalue": "'DataFrame' object has no attribute 'drop_dublicate'",
     "output_type": "error",
     "traceback": [
      "\u001b[1;31m---------------------------------------------------------------------------\u001b[0m",
      "\u001b[1;31mAttributeError\u001b[0m                            Traceback (most recent call last)",
      "\u001b[1;32m~\\AppData\\Local\\Temp/ipykernel_35512/2258860512.py\u001b[0m in \u001b[0;36m<module>\u001b[1;34m\u001b[0m\n\u001b[1;32m----> 1\u001b[1;33m \u001b[0mdf\u001b[0m\u001b[1;33m=\u001b[0m\u001b[0mdf\u001b[0m\u001b[1;33m.\u001b[0m\u001b[0mdrop_dublicate\u001b[0m\u001b[1;33m(\u001b[0m\u001b[1;33m)\u001b[0m\u001b[1;33m\u001b[0m\u001b[1;33m\u001b[0m\u001b[0m\n\u001b[0m",
      "\u001b[1;32m~\\anaconda3\\lib\\site-packages\\pandas\\core\\generic.py\u001b[0m in \u001b[0;36m__getattr__\u001b[1;34m(self, name)\u001b[0m\n\u001b[0;32m   5485\u001b[0m         ):\n\u001b[0;32m   5486\u001b[0m             \u001b[1;32mreturn\u001b[0m \u001b[0mself\u001b[0m\u001b[1;33m[\u001b[0m\u001b[0mname\u001b[0m\u001b[1;33m]\u001b[0m\u001b[1;33m\u001b[0m\u001b[1;33m\u001b[0m\u001b[0m\n\u001b[1;32m-> 5487\u001b[1;33m         \u001b[1;32mreturn\u001b[0m \u001b[0mobject\u001b[0m\u001b[1;33m.\u001b[0m\u001b[0m__getattribute__\u001b[0m\u001b[1;33m(\u001b[0m\u001b[0mself\u001b[0m\u001b[1;33m,\u001b[0m \u001b[0mname\u001b[0m\u001b[1;33m)\u001b[0m\u001b[1;33m\u001b[0m\u001b[1;33m\u001b[0m\u001b[0m\n\u001b[0m\u001b[0;32m   5488\u001b[0m \u001b[1;33m\u001b[0m\u001b[0m\n\u001b[0;32m   5489\u001b[0m     \u001b[1;32mdef\u001b[0m \u001b[0m__setattr__\u001b[0m\u001b[1;33m(\u001b[0m\u001b[0mself\u001b[0m\u001b[1;33m,\u001b[0m \u001b[0mname\u001b[0m\u001b[1;33m:\u001b[0m \u001b[0mstr\u001b[0m\u001b[1;33m,\u001b[0m \u001b[0mvalue\u001b[0m\u001b[1;33m)\u001b[0m \u001b[1;33m->\u001b[0m \u001b[1;32mNone\u001b[0m\u001b[1;33m:\u001b[0m\u001b[1;33m\u001b[0m\u001b[1;33m\u001b[0m\u001b[0m\n",
      "\u001b[1;31mAttributeError\u001b[0m: 'DataFrame' object has no attribute 'drop_dublicate'"
     ]
    }
   ],
   "source": [
    "df=df.drop_dublicate()"
   ]
  },
  {
   "cell_type": "code",
   "execution_count": null,
   "id": "4f279b89",
   "metadata": {},
   "outputs": [],
   "source": []
  },
  {
   "cell_type": "code",
   "execution_count": null,
   "id": "2586475f",
   "metadata": {},
   "outputs": [],
   "source": []
  },
  {
   "cell_type": "code",
   "execution_count": null,
   "id": "2625ed38",
   "metadata": {},
   "outputs": [],
   "source": []
  },
  {
   "cell_type": "code",
   "execution_count": null,
   "id": "e137ce65",
   "metadata": {},
   "outputs": [],
   "source": []
  },
  {
   "cell_type": "code",
   "execution_count": null,
   "id": "0827b4ae",
   "metadata": {},
   "outputs": [],
   "source": []
  },
  {
   "cell_type": "code",
   "execution_count": 7,
   "id": "377553bd",
   "metadata": {
    "execution": {
     "iopub.execute_input": "2024-10-19T10:57:13.108986Z",
     "iopub.status.busy": "2024-10-19T10:57:13.107471Z",
     "iopub.status.idle": "2024-10-19T10:57:13.116278Z",
     "shell.execute_reply": "2024-10-19T10:57:13.115004Z"
    },
    "papermill": {
     "duration": 0.020203,
     "end_time": "2024-10-19T10:57:13.118718",
     "exception": false,
     "start_time": "2024-10-19T10:57:13.098515",
     "status": "completed"
    },
    "tags": []
   },
   "outputs": [
    {
     "data": {
      "text/plain": [
       "array(['southwest', 'southeast', 'northwest', 'northeast'], dtype=object)"
      ]
     },
     "execution_count": 7,
     "metadata": {},
     "output_type": "execute_result"
    }
   ],
   "source": [
    "df[\"region\"].unique()"
   ]
  },
  {
   "cell_type": "code",
   "execution_count": 8,
   "id": "a8c9ab30",
   "metadata": {
    "execution": {
     "iopub.execute_input": "2024-10-19T10:57:13.138367Z",
     "iopub.status.busy": "2024-10-19T10:57:13.137891Z",
     "iopub.status.idle": "2024-10-19T10:57:13.169873Z",
     "shell.execute_reply": "2024-10-19T10:57:13.168578Z"
    },
    "papermill": {
     "duration": 0.045044,
     "end_time": "2024-10-19T10:57:13.172419",
     "exception": false,
     "start_time": "2024-10-19T10:57:13.127375",
     "status": "completed"
    },
    "tags": []
   },
   "outputs": [
    {
     "data": {
      "text/html": [
       "<div>\n",
       "<style scoped>\n",
       "    .dataframe tbody tr th:only-of-type {\n",
       "        vertical-align: middle;\n",
       "    }\n",
       "\n",
       "    .dataframe tbody tr th {\n",
       "        vertical-align: top;\n",
       "    }\n",
       "\n",
       "    .dataframe thead th {\n",
       "        text-align: right;\n",
       "    }\n",
       "</style>\n",
       "<table border=\"1\" class=\"dataframe\">\n",
       "  <thead>\n",
       "    <tr style=\"text-align: right;\">\n",
       "      <th></th>\n",
       "      <th>age</th>\n",
       "      <th>bmi</th>\n",
       "      <th>children</th>\n",
       "      <th>expenses</th>\n",
       "      <th>sex_male</th>\n",
       "      <th>smoker_yes</th>\n",
       "      <th>region_northwest</th>\n",
       "      <th>region_southeast</th>\n",
       "      <th>region_southwest</th>\n",
       "    </tr>\n",
       "  </thead>\n",
       "  <tbody>\n",
       "    <tr>\n",
       "      <th>0</th>\n",
       "      <td>19.0</td>\n",
       "      <td>27.9</td>\n",
       "      <td>0.0</td>\n",
       "      <td>16884.92</td>\n",
       "      <td>0.0</td>\n",
       "      <td>1.0</td>\n",
       "      <td>0.0</td>\n",
       "      <td>0.0</td>\n",
       "      <td>1.0</td>\n",
       "    </tr>\n",
       "    <tr>\n",
       "      <th>1</th>\n",
       "      <td>18.0</td>\n",
       "      <td>33.8</td>\n",
       "      <td>1.0</td>\n",
       "      <td>1725.55</td>\n",
       "      <td>1.0</td>\n",
       "      <td>0.0</td>\n",
       "      <td>0.0</td>\n",
       "      <td>1.0</td>\n",
       "      <td>0.0</td>\n",
       "    </tr>\n",
       "    <tr>\n",
       "      <th>2</th>\n",
       "      <td>28.0</td>\n",
       "      <td>33.0</td>\n",
       "      <td>3.0</td>\n",
       "      <td>4449.46</td>\n",
       "      <td>1.0</td>\n",
       "      <td>0.0</td>\n",
       "      <td>0.0</td>\n",
       "      <td>1.0</td>\n",
       "      <td>0.0</td>\n",
       "    </tr>\n",
       "    <tr>\n",
       "      <th>3</th>\n",
       "      <td>33.0</td>\n",
       "      <td>22.7</td>\n",
       "      <td>0.0</td>\n",
       "      <td>21984.47</td>\n",
       "      <td>1.0</td>\n",
       "      <td>0.0</td>\n",
       "      <td>1.0</td>\n",
       "      <td>0.0</td>\n",
       "      <td>0.0</td>\n",
       "    </tr>\n",
       "    <tr>\n",
       "      <th>4</th>\n",
       "      <td>32.0</td>\n",
       "      <td>28.9</td>\n",
       "      <td>0.0</td>\n",
       "      <td>3866.86</td>\n",
       "      <td>1.0</td>\n",
       "      <td>0.0</td>\n",
       "      <td>1.0</td>\n",
       "      <td>0.0</td>\n",
       "      <td>0.0</td>\n",
       "    </tr>\n",
       "  </tbody>\n",
       "</table>\n",
       "</div>"
      ],
      "text/plain": [
       "    age   bmi  children  expenses  sex_male  smoker_yes  region_northwest  \\\n",
       "0  19.0  27.9       0.0  16884.92       0.0         1.0               0.0   \n",
       "1  18.0  33.8       1.0   1725.55       1.0         0.0               0.0   \n",
       "2  28.0  33.0       3.0   4449.46       1.0         0.0               0.0   \n",
       "3  33.0  22.7       0.0  21984.47       1.0         0.0               1.0   \n",
       "4  32.0  28.9       0.0   3866.86       1.0         0.0               1.0   \n",
       "\n",
       "   region_southeast  region_southwest  \n",
       "0               0.0               1.0  \n",
       "1               1.0               0.0  \n",
       "2               1.0               0.0  \n",
       "3               0.0               0.0  \n",
       "4               0.0               0.0  "
      ]
     },
     "execution_count": 8,
     "metadata": {},
     "output_type": "execute_result"
    }
   ],
   "source": [
    "one_hot_encoded = pd.get_dummies(df,columns=[\"sex\",\"smoker\",\"region\"],drop_first=True).astype(float)\n",
    "one_hot_encoded.head()"
   ]
  },
  {
   "cell_type": "code",
   "execution_count": 9,
   "id": "530eb48b",
   "metadata": {
    "execution": {
     "iopub.execute_input": "2024-10-19T10:57:13.191338Z",
     "iopub.status.busy": "2024-10-19T10:57:13.189871Z",
     "iopub.status.idle": "2024-10-19T10:57:14.730842Z",
     "shell.execute_reply": "2024-10-19T10:57:14.729493Z"
    },
    "papermill": {
     "duration": 1.553893,
     "end_time": "2024-10-19T10:57:14.734264",
     "exception": false,
     "start_time": "2024-10-19T10:57:13.180371",
     "status": "completed"
    },
    "tags": []
   },
   "outputs": [],
   "source": [
    "from sklearn.model_selection import train_test_split ,GridSearchCV\n",
    "X = one_hot_encoded.drop(columns=[\"expenses\"],axis=1)\n",
    "y = one_hot_encoded.expenses\n",
    "\n",
    "X_train,X_test,y_train,y_test = train_test_split(X,y,test_size=0.1)"
   ]
  },
  {
   "cell_type": "code",
   "execution_count": 10,
   "id": "48af9f7b",
   "metadata": {
    "execution": {
     "iopub.execute_input": "2024-10-19T10:57:14.753813Z",
     "iopub.status.busy": "2024-10-19T10:57:14.753053Z",
     "iopub.status.idle": "2024-10-19T10:57:14.759617Z",
     "shell.execute_reply": "2024-10-19T10:57:14.758224Z"
    },
    "papermill": {
     "duration": 0.019878,
     "end_time": "2024-10-19T10:57:14.762717",
     "exception": false,
     "start_time": "2024-10-19T10:57:14.742839",
     "status": "completed"
    },
    "tags": []
   },
   "outputs": [],
   "source": [
    "from sklearn.metrics import mean_squared_error,r2_score,mean_absolute_error"
   ]
  },
  {
   "cell_type": "code",
   "execution_count": 11,
   "id": "6c0a9c0a",
   "metadata": {
    "execution": {
     "iopub.execute_input": "2024-10-19T10:57:14.782246Z",
     "iopub.status.busy": "2024-10-19T10:57:14.781699Z",
     "iopub.status.idle": "2024-10-19T10:57:15.915486Z",
     "shell.execute_reply": "2024-10-19T10:57:15.914222Z"
    },
    "papermill": {
     "duration": 1.147043,
     "end_time": "2024-10-19T10:57:15.918572",
     "exception": false,
     "start_time": "2024-10-19T10:57:14.771529",
     "status": "completed"
    },
    "tags": []
   },
   "outputs": [
    {
     "name": "stdout",
     "output_type": "stream",
     "text": [
      "{'n_neighbors': 11, 'weights': 'distance'}\n"
     ]
    }
   ],
   "source": [
    "from sklearn.neighbors import KNeighborsRegressor\n",
    "knn = KNeighborsRegressor()\n",
    "knn_param = {'n_neighbors': [3,5,7,9,11,13,15,17,19,21],\n",
    "              'weights': ['uniform', 'distance']\n",
    "            } \n",
    "grid_search = GridSearchCV(knn,param_grid=knn_param,cv=5,scoring=\"neg_mean_squared_error\")\n",
    "\n",
    "grid_search.fit(X_train,y_train)\n",
    "print(grid_search.best_params_)"
   ]
  },
  {
   "cell_type": "code",
   "execution_count": 12,
   "id": "576bd890",
   "metadata": {
    "execution": {
     "iopub.execute_input": "2024-10-19T10:57:15.937112Z",
     "iopub.status.busy": "2024-10-19T10:57:15.936633Z",
     "iopub.status.idle": "2024-10-19T10:57:15.966388Z",
     "shell.execute_reply": "2024-10-19T10:57:15.964992Z"
    },
    "papermill": {
     "duration": 0.041968,
     "end_time": "2024-10-19T10:57:15.968851",
     "exception": false,
     "start_time": "2024-10-19T10:57:15.926883",
     "status": "completed"
    },
    "tags": []
   },
   "outputs": [
    {
     "name": "stdout",
     "output_type": "stream",
     "text": [
      "train mae : 10.383073089700998\n",
      "train mse : 64900.54048521596\n",
      "train r2 score : 0.9995618723764925\n",
      "\n",
      "test mae : 8266.178218830617\n",
      "test mse : 122280649.1860246\n",
      "test r2 score : 0.07150876998092837\n",
      "Overfitting !!!!!!!\n"
     ]
    }
   ],
   "source": [
    "knn_tuned = KNeighborsRegressor(n_neighbors=13,weights=\"distance\").fit(X_train,y_train)\n",
    "y_train_pred = knn_tuned.predict(X_train)\n",
    "print(f\"train mae : {mean_absolute_error(y_train,y_train_pred)}\")\n",
    "print(f\"train mse : {mean_squared_error(y_train,y_train_pred)}\")\n",
    "print(f\"train r2 score : {r2_score(y_train,y_train_pred)}\")\n",
    "\n",
    "y_test_pred = knn_tuned.predict(X_test)\n",
    "print(f\"\\ntest mae : {mean_absolute_error(y_test,y_test_pred)}\")\n",
    "print(f\"test mse : {mean_squared_error(y_test,y_test_pred)}\")\n",
    "print(f\"test r2 score : {r2_score(y_test,y_test_pred)}\")\n",
    "\n",
    "print(\"Overfitting !!!!!!!\")"
   ]
  },
  {
   "cell_type": "code",
   "execution_count": 13,
   "id": "ac982a3e",
   "metadata": {
    "execution": {
     "iopub.execute_input": "2024-10-19T10:57:15.986947Z",
     "iopub.status.busy": "2024-10-19T10:57:15.986484Z",
     "iopub.status.idle": "2024-10-19T10:57:16.579095Z",
     "shell.execute_reply": "2024-10-19T10:57:16.577404Z"
    },
    "papermill": {
     "duration": 0.604808,
     "end_time": "2024-10-19T10:57:16.581810",
     "exception": false,
     "start_time": "2024-10-19T10:57:15.977002",
     "status": "completed"
    },
    "tags": []
   },
   "outputs": [
    {
     "name": "stdout",
     "output_type": "stream",
     "text": [
      "\n",
      "test mae : 2437.361663432836\n",
      "test mse : 18945500.32303699\n",
      "test r2 score : 0.8561446065640141\n"
     ]
    }
   ],
   "source": [
    "from sklearn.ensemble import RandomForestRegressor\n",
    "rf_reg = RandomForestRegressor().fit(X_train,y_train)\n",
    "\n",
    "y_pred = rf_reg.predict(X_test)\n",
    "print(f\"\\ntest mae : {mean_absolute_error(y_test,y_pred)}\")\n",
    "print(f\"test mse : {mean_squared_error(y_test,y_pred)}\")\n",
    "print(f\"test r2 score : {r2_score(y_test,y_pred)}\")"
   ]
  },
  {
   "cell_type": "code",
   "execution_count": 14,
   "id": "c0665a10",
   "metadata": {
    "execution": {
     "iopub.execute_input": "2024-10-19T10:57:16.600344Z",
     "iopub.status.busy": "2024-10-19T10:57:16.599892Z",
     "iopub.status.idle": "2024-10-19T10:57:16.617760Z",
     "shell.execute_reply": "2024-10-19T10:57:16.616558Z"
    },
    "papermill": {
     "duration": 0.030402,
     "end_time": "2024-10-19T10:57:16.620724",
     "exception": false,
     "start_time": "2024-10-19T10:57:16.590322",
     "status": "completed"
    },
    "tags": []
   },
   "outputs": [
    {
     "name": "stdout",
     "output_type": "stream",
     "text": [
      "\n",
      "test mae : 4106.226548030701\n",
      "test mse : 31459029.883189216\n",
      "test r2 score : 0.7611279172470453\n"
     ]
    }
   ],
   "source": [
    "from sklearn.linear_model import Lasso\n",
    "lasso = Lasso().fit(X_train,y_train)\n",
    "\n",
    "y_pred = lasso.predict(X_test)\n",
    "print(f\"\\ntest mae : {mean_absolute_error(y_test,y_pred)}\")\n",
    "print(f\"test mse : {mean_squared_error(y_test,y_pred)}\")\n",
    "print(f\"test r2 score : {r2_score(y_test,y_pred)}\")"
   ]
  },
  {
   "cell_type": "code",
   "execution_count": 15,
   "id": "67e6f1e5",
   "metadata": {
    "execution": {
     "iopub.execute_input": "2024-10-19T10:57:16.640016Z",
     "iopub.status.busy": "2024-10-19T10:57:16.639574Z",
     "iopub.status.idle": "2024-10-19T10:57:16.675482Z",
     "shell.execute_reply": "2024-10-19T10:57:16.673343Z"
    },
    "papermill": {
     "duration": 0.049524,
     "end_time": "2024-10-19T10:57:16.678717",
     "exception": false,
     "start_time": "2024-10-19T10:57:16.629193",
     "status": "completed"
    },
    "tags": []
   },
   "outputs": [
    {
     "name": "stdout",
     "output_type": "stream",
     "text": [
      "\n",
      "test mae : 4118.535536229591\n",
      "test mse : 31495265.25829007\n",
      "test r2 score : 0.7608527778180224\n"
     ]
    }
   ],
   "source": [
    "from sklearn.linear_model import Ridge\n",
    "ridge = Ridge().fit(X_train,y_train)\n",
    "\n",
    "y_pred = ridge.predict(X_test)\n",
    "print(f\"\\ntest mae : {mean_absolute_error(y_test,y_pred)}\")\n",
    "print(f\"test mse : {mean_squared_error(y_test,y_pred)}\")\n",
    "print(f\"test r2 score : {r2_score(y_test,y_pred)}\")"
   ]
  },
  {
   "cell_type": "code",
   "execution_count": 16,
   "id": "8f596b53",
   "metadata": {
    "execution": {
     "iopub.execute_input": "2024-10-19T10:57:16.698102Z",
     "iopub.status.busy": "2024-10-19T10:57:16.697646Z",
     "iopub.status.idle": "2024-10-19T10:57:16.713799Z",
     "shell.execute_reply": "2024-10-19T10:57:16.712278Z"
    },
    "papermill": {
     "duration": 0.028871,
     "end_time": "2024-10-19T10:57:16.716615",
     "exception": false,
     "start_time": "2024-10-19T10:57:16.687744",
     "status": "completed"
    },
    "tags": []
   },
   "outputs": [
    {
     "name": "stdout",
     "output_type": "stream",
     "text": [
      "\n",
      "test mae : 7496.064673555937\n",
      "test mse : 86938831.27883069\n",
      "test r2 score : 0.3398633150229651\n"
     ]
    }
   ],
   "source": [
    "from sklearn.linear_model import ElasticNet\n",
    "elastic_net = ElasticNet().fit(X_train,y_train)\n",
    "\n",
    "y_pred = elastic_net.predict(X_test)\n",
    "print(f\"\\ntest mae : {mean_absolute_error(y_test,y_pred)}\")\n",
    "print(f\"test mse : {mean_squared_error(y_test,y_pred)}\")\n",
    "print(f\"test r2 score : {r2_score(y_test,y_pred)}\")"
   ]
  },
  {
   "cell_type": "code",
   "execution_count": null,
   "id": "47837e6a",
   "metadata": {
    "papermill": {
     "duration": 0.008666,
     "end_time": "2024-10-19T10:57:16.734038",
     "exception": false,
     "start_time": "2024-10-19T10:57:16.725372",
     "status": "completed"
    },
    "tags": []
   },
   "outputs": [],
   "source": []
  }
 ],
 "metadata": {
  "kaggle": {
   "accelerator": "none",
   "dataSources": [
    {
     "datasetId": 233212,
     "sourceId": 497258,
     "sourceType": "datasetVersion"
    }
   ],
   "dockerImageVersionId": 30786,
   "isGpuEnabled": false,
   "isInternetEnabled": true,
   "language": "python",
   "sourceType": "notebook"
  },
  "kernelspec": {
   "display_name": "Python 3 (ipykernel)",
   "language": "python",
   "name": "python3"
  },
  "language_info": {
   "codemirror_mode": {
    "name": "ipython",
    "version": 3
   },
   "file_extension": ".py",
   "mimetype": "text/x-python",
   "name": "python",
   "nbconvert_exporter": "python",
   "pygments_lexer": "ipython3",
   "version": "3.9.7"
  },
  "papermill": {
   "default_parameters": {},
   "duration": 8.648214,
   "end_time": "2024-10-19T10:57:17.466216",
   "environment_variables": {},
   "exception": null,
   "input_path": "__notebook__.ipynb",
   "output_path": "__notebook__.ipynb",
   "parameters": {},
   "start_time": "2024-10-19T10:57:08.818002",
   "version": "2.6.0"
  }
 },
 "nbformat": 4,
 "nbformat_minor": 5
}
